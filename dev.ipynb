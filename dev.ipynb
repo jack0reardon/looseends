{
 "cells": [
  {
   "cell_type": "code",
   "execution_count": 90,
   "metadata": {},
   "outputs": [
    {
     "name": "stdout",
     "output_type": "stream",
     "text": [
      "def my_function():\n",
      "  print(\"Hello from a function\")\n",
      "\n",
      "\n",
      "def another_function():\n",
      "    my_function1()\n",
      "    my_function()\n",
      "\n",
      "\n",
      "def yet_another_function():\n",
      "  another_function()\n",
      "  my_function()\n",
      "  yet_another_function()\n",
      "\n",
      "\n",
      "def my_last_function():\n",
      "  yet_another_function()\n",
      "  another_function()\n",
      "  my_function()\n",
      "  my_function1()\n",
      "\n",
      "def an_unused_function():\n",
      "  print()\n"
     ]
    }
   ],
   "source": [
    "import re\n",
    "\n",
    "with open('dummy.py') as f:\n",
    "    lines = f.read()\n",
    "\n",
    "print(lines)"
   ]
  },
  {
   "cell_type": "code",
   "execution_count": 7,
   "metadata": {},
   "outputs": [
    {
     "data": {
      "image/png": "[encoded data removed]",
      "text/plain": [
       "<Figure size 432x288 with 1 Axes>"
      ]
     },
     "metadata": {},
     "output_type": "display_data"
    }
   ],
   "source": [
    "import networkx as nx\n",
    "import matplotlib.pyplot as plt\n",
    "\n",
    "G = nx.DiGraph()\n",
    "\n",
    "custom_function_name_compiler = re.compile(r\"\"\"\n",
    "    ^def \\s                # Starts with def\n",
    "    (\\D\\w+)   # Function name\n",
    "    \\([\\w+]*\\):             # Arguments within the function\n",
    "    $                     # Function has its own line\n",
    "\"\"\", re.MULTILINE | re.VERBOSE)\n",
    "\n",
    "custom_function_names = custom_function_name_compiler.findall(lines)\n",
    "\n",
    "\n",
    "\n",
    "function_definition_compiler = re.compile(r\"\"\"\n",
    "    ^def \\s                # Starts with def\n",
    "    \\D\\w+   # Function name\n",
    "    \\([\\w+]*\\):             # Arguments within the function\n",
    "    $                     # Function has its own line\n",
    "    (?:\\s+\\D\\w+\\(\\))+\n",
    "\"\"\", re.MULTILINE | re.VERBOSE)\n",
    "\n",
    "called_functions_compiler = re.compile(r\"\"\"\n",
    "    ^\\s+(\\D\\w+)\\(\\)\n",
    "\"\"\", re.MULTILINE | re.VERBOSE)\n",
    "\n",
    "function_definitions = function_definition_compiler.findall(lines)\n",
    "\n",
    "for function_definition in function_definitions:\n",
    "    # Parse the function name\n",
    "    calling_function = custom_function_name_compiler.match(function_definition).group(1)\n",
    "\n",
    "    # Parse called function\n",
    "    called_functions = called_functions_compiler.findall(function_definition)\n",
    "\n",
    "    for called_function in called_functions:\n",
    "        if called_function in custom_function_names:\n",
    "            G.add_edge(called_function, calling_function)\n",
    "\n",
    "    G.add_node(calling_function)\n",
    "\n",
    "options = {\n",
    "    \"font_size\": 10,\n",
    "    \"node_size\": 1000,\n",
    "    \"node_color\": \"white\",\n",
    "    \"edgecolors\": \"black\",\n",
    "    \"linewidths\": 10,\n",
    "    \"width\": 3\n",
    "}\n",
    "\n",
    "pos = nx.shell_layout(G)\n",
    "nx.draw_networkx(G, pos, **options)\n",
    "nx.draw(G, pos, node_size=1500)\n",
    "ax = plt.gca()\n",
    "ax.margins(0.20)\n",
    "plt.axis(\"off\")\n",
    "plt.show()"
   ]
  },
  {
   "cell_type": "code",
   "execution_count": 4,
   "metadata": {},
   "outputs": [
    {
     "name": "stdout",
     "output_type": "stream",
     "text": [
      "['.git', '.vscode', 'dev.ipynb', 'dummy.py', 'LICENSE', 'main.py', 'README.md', 'scripts']\n"
     ]
    }
   ],
   "source": [
    "import scripts.ancillary_functions as af\n",
    "import re\n",
    "\n",
    "def get_loose_ends(\n",
    "    directory_or_file_path,\n",
    "    do_search_recursively = True\n",
    "):\n",
    "    asdf = af.get_file_paths(directory_or_file_path, do_search_recursively)\n",
    "    print(asdf)\n",
    "    return(asdf)\n",
    "\n",
    "\n",
    "aaa = re.compile(r\"\"\"\n",
    "    \\w+.py\n",
    "\"\"\", re.MULTILINE | re.VERBOSE)\n",
    "\n",
    "kk = get_loose_ends('.')\n",
    "\n",
    "ttt = [aaa.search(file_name).string for file_name in kk if aaa.search(file_name) is not None]\n"
   ]
  },
  {
   "cell_type": "code",
   "execution_count": 16,
   "metadata": {},
   "outputs": [
    {
     "name": "stdout",
     "output_type": "stream",
     "text": [
      "[]\n"
     ]
    }
   ],
   "source": [
    "import re\n",
    "\n",
    "python_file_name_compiler = re.compile(r\"\"\"\n",
    "    \\w+\\.py\n",
    "\"\"\", re.MULTILINE | re.VERBOSE)\n",
    "\n",
    "print(python_file_name_compiler.findall(\"__pycache__\"))"
   ]
  },
  {
   "cell_type": "code",
   "execution_count": 88,
   "metadata": {},
   "outputs": [
    {
     "data": {
      "text/plain": [
       "['def my_function():\\n\\ta_definition()\\nde']"
      ]
     },
     "execution_count": 88,
     "metadata": {},
     "output_type": "execute_result"
    }
   ],
   "source": [
    "import re\n",
    "\n",
    "asdf = re.compile('^def[\\s\\S]*def')\n",
    "\n",
    "asdf.findall('def my_function():\\n\\ta_definition()\\ndef')\n"
   ]
  },
  {
   "cell_type": "code",
   "execution_count": 125,
   "metadata": {},
   "outputs": [
    {
     "ename": "error",
     "evalue": "bad character in group name '?:[a-zA-Z_][\\\\w_]*, ' at position 46",
     "output_type": "error",
     "traceback": [
      "\u001b[1;31m---------------------------------------------------------------------------\u001b[0m",
      "\u001b[1;31merror\u001b[0m                                     Traceback (most recent call last)",
      "\u001b[1;32mc:\\Users\\sexy0\\Documents\\Python\\looseends\\looseends\\dev.ipynb Cell 6\u001b[0m in \u001b[0;36m<cell line: 7>\u001b[1;34m()\u001b[0m\n\u001b[0;32m      <a href='vscode-notebook-cell:/c%3A/Users/sexy0/Documents/Python/looseends/looseends/dev.ipynb#X13sZmlsZQ%3D%3D?line=3'>4</a>\u001b[0m \u001b[39mwith\u001b[39;00m \u001b[39mopen\u001b[39m(\u001b[39m'\u001b[39m\u001b[39mdummy.py\u001b[39m\u001b[39m'\u001b[39m) \u001b[39mas\u001b[39;00m f:\n\u001b[0;32m      <a href='vscode-notebook-cell:/c%3A/Users/sexy0/Documents/Python/looseends/looseends/dev.ipynb#X13sZmlsZQ%3D%3D?line=4'>5</a>\u001b[0m     lines \u001b[39m=\u001b[39m f\u001b[39m.\u001b[39mread()\n\u001b[1;32m----> <a href='vscode-notebook-cell:/c%3A/Users/sexy0/Documents/Python/looseends/looseends/dev.ipynb#X13sZmlsZQ%3D%3D?line=6'>7</a>\u001b[0m called_func_compiler \u001b[39m=\u001b[39m re\u001b[39m.\u001b[39;49mcompile(\u001b[39mr\u001b[39;49m\u001b[39m'\u001b[39;49m\u001b[39m([a-zA-Z_][\u001b[39;49m\u001b[39m\\\u001b[39;49m\u001b[39mw_]*)\u001b[39;49m\u001b[39m\\\u001b[39;49m\u001b[39m((?:(?:[a-zA-Z_][\u001b[39;49m\u001b[39m\\\u001b[39;49m\u001b[39mw_]*)*|(?(?:[a-zA-Z_][\u001b[39;49m\u001b[39m\\\u001b[39;49m\u001b[39mw_]*, )*[a-zA-Z_][\u001b[39;49m\u001b[39m\\\u001b[39;49m\u001b[39mw_]*))\u001b[39;49m\u001b[39m\\\u001b[39;49m\u001b[39m)\u001b[39;49m\u001b[39m'\u001b[39;49m)\n\u001b[0;32m      <a href='vscode-notebook-cell:/c%3A/Users/sexy0/Documents/Python/looseends/looseends/dev.ipynb#X13sZmlsZQ%3D%3D?line=8'>9</a>\u001b[0m matches \u001b[39m=\u001b[39m called_func_compiler\u001b[39m.\u001b[39mfindall(lines)\n\u001b[0;32m     <a href='vscode-notebook-cell:/c%3A/Users/sexy0/Documents/Python/looseends/looseends/dev.ipynb#X13sZmlsZQ%3D%3D?line=9'>10</a>\u001b[0m \u001b[39mprint\u001b[39m(matches)\n",
      "File \u001b[1;32mc:\\Users\\sexy0\\AppData\\Local\\Programs\\Python\\Python310\\lib\\re.py:251\u001b[0m, in \u001b[0;36mcompile\u001b[1;34m(pattern, flags)\u001b[0m\n\u001b[0;32m    249\u001b[0m \u001b[39mdef\u001b[39;00m \u001b[39mcompile\u001b[39m(pattern, flags\u001b[39m=\u001b[39m\u001b[39m0\u001b[39m):\n\u001b[0;32m    250\u001b[0m     \u001b[39m\"\u001b[39m\u001b[39mCompile a regular expression pattern, returning a Pattern object.\u001b[39m\u001b[39m\"\u001b[39m\n\u001b[1;32m--> 251\u001b[0m     \u001b[39mreturn\u001b[39;00m _compile(pattern, flags)\n",
      "File \u001b[1;32mc:\\Users\\sexy0\\AppData\\Local\\Programs\\Python\\Python310\\lib\\re.py:303\u001b[0m, in \u001b[0;36m_compile\u001b[1;34m(pattern, flags)\u001b[0m\n\u001b[0;32m    301\u001b[0m \u001b[39mif\u001b[39;00m \u001b[39mnot\u001b[39;00m sre_compile\u001b[39m.\u001b[39misstring(pattern):\n\u001b[0;32m    302\u001b[0m     \u001b[39mraise\u001b[39;00m \u001b[39mTypeError\u001b[39;00m(\u001b[39m\"\u001b[39m\u001b[39mfirst argument must be string or compiled pattern\u001b[39m\u001b[39m\"\u001b[39m)\n\u001b[1;32m--> 303\u001b[0m p \u001b[39m=\u001b[39m sre_compile\u001b[39m.\u001b[39;49mcompile(pattern, flags)\n\u001b[0;32m    304\u001b[0m \u001b[39mif\u001b[39;00m \u001b[39mnot\u001b[39;00m (flags \u001b[39m&\u001b[39m DEBUG):\n\u001b[0;32m    305\u001b[0m     \u001b[39mif\u001b[39;00m \u001b[39mlen\u001b[39m(_cache) \u001b[39m>\u001b[39m\u001b[39m=\u001b[39m _MAXCACHE:\n\u001b[0;32m    306\u001b[0m         \u001b[39m# Drop the oldest item\u001b[39;00m\n",
      "File \u001b[1;32mc:\\Users\\sexy0\\AppData\\Local\\Programs\\Python\\Python310\\lib\\sre_compile.py:788\u001b[0m, in \u001b[0;36mcompile\u001b[1;34m(p, flags)\u001b[0m\n\u001b[0;32m    786\u001b[0m \u001b[39mif\u001b[39;00m isstring(p):\n\u001b[0;32m    787\u001b[0m     pattern \u001b[39m=\u001b[39m p\n\u001b[1;32m--> 788\u001b[0m     p \u001b[39m=\u001b[39m sre_parse\u001b[39m.\u001b[39;49mparse(p, flags)\n\u001b[0;32m    789\u001b[0m \u001b[39melse\u001b[39;00m:\n\u001b[0;32m    790\u001b[0m     pattern \u001b[39m=\u001b[39m \u001b[39mNone\u001b[39;00m\n",
      "File \u001b[1;32mc:\\Users\\sexy0\\AppData\\Local\\Programs\\Python\\Python310\\lib\\sre_parse.py:955\u001b[0m, in \u001b[0;36mparse\u001b[1;34m(str, flags, state)\u001b[0m\n\u001b[0;32m    952\u001b[0m state\u001b[39m.\u001b[39mstr \u001b[39m=\u001b[39m \u001b[39mstr\u001b[39m\n\u001b[0;32m    954\u001b[0m \u001b[39mtry\u001b[39;00m:\n\u001b[1;32m--> 955\u001b[0m     p \u001b[39m=\u001b[39m _parse_sub(source, state, flags \u001b[39m&\u001b[39;49m SRE_FLAG_VERBOSE, \u001b[39m0\u001b[39;49m)\n\u001b[0;32m    956\u001b[0m \u001b[39mexcept\u001b[39;00m Verbose:\n\u001b[0;32m    957\u001b[0m     \u001b[39m# the VERBOSE flag was switched on inside the pattern.  to be\u001b[39;00m\n\u001b[0;32m    958\u001b[0m     \u001b[39m# on the safe side, we'll parse the whole thing again...\u001b[39;00m\n\u001b[0;32m    959\u001b[0m     state \u001b[39m=\u001b[39m State()\n",
      "File \u001b[1;32mc:\\Users\\sexy0\\AppData\\Local\\Programs\\Python\\Python310\\lib\\sre_parse.py:444\u001b[0m, in \u001b[0;36m_parse_sub\u001b[1;34m(source, state, verbose, nested)\u001b[0m\n\u001b[0;32m    442\u001b[0m start \u001b[39m=\u001b[39m source\u001b[39m.\u001b[39mtell()\n\u001b[0;32m    443\u001b[0m \u001b[39mwhile\u001b[39;00m \u001b[39mTrue\u001b[39;00m:\n\u001b[1;32m--> 444\u001b[0m     itemsappend(_parse(source, state, verbose, nested \u001b[39m+\u001b[39;49m \u001b[39m1\u001b[39;49m,\n\u001b[0;32m    445\u001b[0m                        \u001b[39mnot\u001b[39;49;00m nested \u001b[39mand\u001b[39;49;00m \u001b[39mnot\u001b[39;49;00m items))\n\u001b[0;32m    446\u001b[0m     \u001b[39mif\u001b[39;00m \u001b[39mnot\u001b[39;00m sourcematch(\u001b[39m\"\u001b[39m\u001b[39m|\u001b[39m\u001b[39m\"\u001b[39m):\n\u001b[0;32m    447\u001b[0m         \u001b[39mbreak\u001b[39;00m\n",
      "File \u001b[1;32mc:\\Users\\sexy0\\AppData\\Local\\Programs\\Python\\Python310\\lib\\sre_parse.py:841\u001b[0m, in \u001b[0;36m_parse\u001b[1;34m(source, state, verbose, nested, first)\u001b[0m\n\u001b[0;32m    838\u001b[0m         \u001b[39mraise\u001b[39;00m source\u001b[39m.\u001b[39merror(err\u001b[39m.\u001b[39mmsg, \u001b[39mlen\u001b[39m(name) \u001b[39m+\u001b[39m \u001b[39m1\u001b[39m) \u001b[39mfrom\u001b[39;00m \u001b[39mNone\u001b[39m\n\u001b[0;32m    839\u001b[0m sub_verbose \u001b[39m=\u001b[39m ((verbose \u001b[39mor\u001b[39;00m (add_flags \u001b[39m&\u001b[39m SRE_FLAG_VERBOSE)) \u001b[39mand\u001b[39;00m\n\u001b[0;32m    840\u001b[0m                \u001b[39mnot\u001b[39;00m (del_flags \u001b[39m&\u001b[39m SRE_FLAG_VERBOSE))\n\u001b[1;32m--> 841\u001b[0m p \u001b[39m=\u001b[39m _parse_sub(source, state, sub_verbose, nested \u001b[39m+\u001b[39;49m \u001b[39m1\u001b[39;49m)\n\u001b[0;32m    842\u001b[0m \u001b[39mif\u001b[39;00m \u001b[39mnot\u001b[39;00m source\u001b[39m.\u001b[39mmatch(\u001b[39m\"\u001b[39m\u001b[39m)\u001b[39m\u001b[39m\"\u001b[39m):\n\u001b[0;32m    843\u001b[0m     \u001b[39mraise\u001b[39;00m source\u001b[39m.\u001b[39merror(\u001b[39m\"\u001b[39m\u001b[39mmissing ), unterminated subpattern\u001b[39m\u001b[39m\"\u001b[39m,\n\u001b[0;32m    844\u001b[0m                        source\u001b[39m.\u001b[39mtell() \u001b[39m-\u001b[39m start)\n",
      "File \u001b[1;32mc:\\Users\\sexy0\\AppData\\Local\\Programs\\Python\\Python310\\lib\\sre_parse.py:444\u001b[0m, in \u001b[0;36m_parse_sub\u001b[1;34m(source, state, verbose, nested)\u001b[0m\n\u001b[0;32m    442\u001b[0m start \u001b[39m=\u001b[39m source\u001b[39m.\u001b[39mtell()\n\u001b[0;32m    443\u001b[0m \u001b[39mwhile\u001b[39;00m \u001b[39mTrue\u001b[39;00m:\n\u001b[1;32m--> 444\u001b[0m     itemsappend(_parse(source, state, verbose, nested \u001b[39m+\u001b[39;49m \u001b[39m1\u001b[39;49m,\n\u001b[0;32m    445\u001b[0m                        \u001b[39mnot\u001b[39;49;00m nested \u001b[39mand\u001b[39;49;00m \u001b[39mnot\u001b[39;49;00m items))\n\u001b[0;32m    446\u001b[0m     \u001b[39mif\u001b[39;00m \u001b[39mnot\u001b[39;00m sourcematch(\u001b[39m\"\u001b[39m\u001b[39m|\u001b[39m\u001b[39m\"\u001b[39m):\n\u001b[0;32m    447\u001b[0m         \u001b[39mbreak\u001b[39;00m\n",
      "File \u001b[1;32mc:\\Users\\sexy0\\AppData\\Local\\Programs\\Python\\Python310\\lib\\sre_parse.py:783\u001b[0m, in \u001b[0;36m_parse\u001b[1;34m(source, state, verbose, nested, first)\u001b[0m\n\u001b[0;32m    781\u001b[0m \u001b[39mexcept\u001b[39;00m \u001b[39mValueError\u001b[39;00m:\n\u001b[0;32m    782\u001b[0m     msg \u001b[39m=\u001b[39m \u001b[39m\"\u001b[39m\u001b[39mbad character in group name \u001b[39m\u001b[39m%r\u001b[39;00m\u001b[39m\"\u001b[39m \u001b[39m%\u001b[39m condname\n\u001b[1;32m--> 783\u001b[0m     \u001b[39mraise\u001b[39;00m source\u001b[39m.\u001b[39merror(msg, \u001b[39mlen\u001b[39m(condname) \u001b[39m+\u001b[39m \u001b[39m1\u001b[39m) \u001b[39mfrom\u001b[39;00m \u001b[39mNone\u001b[39m\n\u001b[0;32m    784\u001b[0m \u001b[39mif\u001b[39;00m \u001b[39mnot\u001b[39;00m condgroup:\n\u001b[0;32m    785\u001b[0m     \u001b[39mraise\u001b[39;00m source\u001b[39m.\u001b[39merror(\u001b[39m\"\u001b[39m\u001b[39mbad group number\u001b[39m\u001b[39m\"\u001b[39m,\n\u001b[0;32m    786\u001b[0m                        \u001b[39mlen\u001b[39m(condname) \u001b[39m+\u001b[39m \u001b[39m1\u001b[39m)\n",
      "\u001b[1;31merror\u001b[0m: bad character in group name '?:[a-zA-Z_][\\\\w_]*, ' at position 46"
     ]
    }
   ],
   "source": [
    "import re\n",
    "\n",
    "# with open('scripts/ancillary_functions.py') as f:\n",
    "with open('dummy.py') as f:\n",
    "    lines = f.read()\n",
    "\n",
    "called_func_compiler = re.compile(r'([a-zA-Z_][\\w_]*)\\((?:(?:[a-zA-Z_][\\w_]*)*|(?(?:[a-zA-Z_][\\w_]*, )*[a-zA-Z_][\\w_]*))\\)')\n",
    "\n",
    "matches = called_func_compiler.findall(lines)\n",
    "print(matches)"
   ]
  }
 ],
 "metadata": {
  "kernelspec": {
   "display_name": "Python 3.10.5 64-bit",
   "language": "python",
   "name": "python3"
  },
  "language_info": {
   "codemirror_mode": {
    "name": "ipython",
    "version": 3
   },
   "file_extension": ".py",
   "mimetype": "text/x-python",
   "name": "python",
   "nbconvert_exporter": "python",
   "pygments_lexer": "ipython3",
   "version": "3.10.5"
  },
  "orig_nbformat": 4,
  "vscode": {
   "interpreter": {
    "hash": "cadba36825ca11a0435b64b3024a4a838c888f0de3b14b8795cbeedbdb90b66b"
   }
  }
 },
 "nbformat": 4,
 "nbformat_minor": 2
}
