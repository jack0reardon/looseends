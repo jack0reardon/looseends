{
 "cells": [
  {
   "cell_type": "code",
   "execution_count": 120,
   "metadata": {},
   "outputs": [
    {
     "name": "stdout",
     "output_type": "stream",
     "text": [
      "def my_function():\n",
      "  print(\"Hello from a function\")\n",
      "\n",
      "\n",
      "def another_function():\n",
      "    my_function1()\n",
      "    my_function()\n",
      "\n",
      "\n",
      "def yet_another_function():\n",
      "  another_function()\n",
      "  my_function()\n",
      "  yet_another_function()\n",
      "\n",
      "\n",
      "def my_last_function():\n",
      "  yet_another_function()\n",
      "  another_function()\n",
      "  my_function()\n",
      "  my_function1()\n",
      "\n",
      "def an_unused_function():\n",
      "  print()\n"
     ]
    }
   ],
   "source": [
    "import re\n",
    "\n",
    "with open('dummy.py') as f:\n",
    "    lines = f.read()\n",
    "\n",
    "print(lines)"
   ]
  },
  {
   "cell_type": "code",
   "execution_count": 121,
   "metadata": {},
   "outputs": [
    {
     "data": {
      "image/png": "[encoded data removed]",
      "text/plain": [
       "<Figure size 432x288 with 1 Axes>"
      ]
     },
     "metadata": {},
     "output_type": "display_data"
    }
   ],
   "source": [
    "import networkx as nx\n",
    "import matplotlib.pyplot as plt\n",
    "\n",
    "G = nx.DiGraph()\n",
    "\n",
    "custom_function_name_compiler = re.compile(r\"\"\"\n",
    "    ^def \\s                # Starts with def\n",
    "    (\\D\\w+)   # Function name\n",
    "    \\([\\w+]*\\):             # Arguments within the function\n",
    "    $                     # Function has its own line\n",
    "\"\"\", re.MULTILINE | re.VERBOSE)\n",
    "\n",
    "custom_function_names = custom_function_name_compiler.findall(lines)\n",
    "\n",
    "\n",
    "\n",
    "function_definition_compiler = re.compile(r\"\"\"\n",
    "    ^def \\s                # Starts with def\n",
    "    \\D\\w+   # Function name\n",
    "    \\([\\w+]*\\):             # Arguments within the function\n",
    "    $                     # Function has its own line\n",
    "    (?:\\s+\\D\\w+\\(\\))+\n",
    "\"\"\", re.MULTILINE | re.VERBOSE)\n",
    "\n",
    "called_functions_compiler = re.compile(r\"\"\"\n",
    "    ^\\s+(\\D\\w+)\\(\\)\n",
    "\"\"\", re.MULTILINE | re.VERBOSE)\n",
    "\n",
    "function_definitions = function_definition_compiler.findall(lines)\n",
    "\n",
    "for function_definition in function_definitions:\n",
    "    # Parse the function name\n",
    "    calling_function = custom_function_name_compiler.match(function_definition).group(1)\n",
    "\n",
    "    # Parse called function\n",
    "    called_functions = called_functions_compiler.findall(function_definition)\n",
    "\n",
    "    for called_function in called_functions:\n",
    "        if called_function in custom_function_names:\n",
    "            G.add_edge(called_function, calling_function)\n",
    "\n",
    "    G.add_node(calling_function)\n",
    "\n",
    "options = {\n",
    "    \"font_size\": 10,\n",
    "    \"node_size\": 1000,\n",
    "    \"node_color\": \"white\",\n",
    "    \"edgecolors\": \"black\",\n",
    "    \"linewidths\": 3,\n",
    "    \"width\": 3\n",
    "}\n",
    "\n",
    "pos = nx.shell_layout(G)\n",
    "nx.draw_networkx(G, pos, **options)\n",
    "nx.draw(G, pos, node_size=1500)\n",
    "ax = plt.gca()\n",
    "ax.margins(0.20)\n",
    "plt.axis(\"off\")\n",
    "plt.show()"
   ]
  }
 ],
 "metadata": {
  "kernelspec": {
   "display_name": "Python 3.10.5 64-bit",
   "language": "python",
   "name": "python3"
  },
  "language_info": {
   "codemirror_mode": {
    "name": "ipython",
    "version": 3
   },
   "file_extension": ".py",
   "mimetype": "text/x-python",
   "name": "python",
   "nbconvert_exporter": "python",
   "pygments_lexer": "ipython3",
   "version": "3.10.5"
  },
  "orig_nbformat": 4,
  "vscode": {
   "interpreter": {
    "hash": "cadba36825ca11a0435b64b3024a4a838c888f0de3b14b8795cbeedbdb90b66b"
   }
  }
 },
 "nbformat": 4,
 "nbformat_minor": 2
}
